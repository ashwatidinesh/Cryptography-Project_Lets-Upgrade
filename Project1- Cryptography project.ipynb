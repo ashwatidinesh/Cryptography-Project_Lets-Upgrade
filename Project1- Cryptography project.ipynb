{
 "cells": [
  {
   "cell_type": "markdown",
   "metadata": {},
   "source": [
    "# Cryptography"
   ]
  },
  {
   "cell_type": "code",
   "execution_count": 2,
   "metadata": {},
   "outputs": [
    {
     "name": "stdout",
     "output_type": "stream",
     "text": [
      "Requirement already satisfied: cryptography in c:\\users\\administrator\\anaconda3\\lib\\site-packages (3.1)\n",
      "Requirement already satisfied: six>=1.4.1 in c:\\users\\administrator\\anaconda3\\lib\\site-packages (from cryptography) (1.15.0)\n",
      "Requirement already satisfied: cffi!=1.11.3,>=1.8 in c:\\users\\administrator\\anaconda3\\lib\\site-packages (from cryptography) (1.14.3)\n",
      "Requirement already satisfied: pycparser in c:\\users\\administrator\\anaconda3\\lib\\site-packages (from cffi!=1.11.3,>=1.8->cryptography) (2.20)\n"
     ]
    }
   ],
   "source": [
    "!pip install cryptography"
   ]
  },
  {
   "cell_type": "code",
   "execution_count": 3,
   "metadata": {},
   "outputs": [],
   "source": [
    "from cryptography.fernet import Fernet"
   ]
  },
  {
   "cell_type": "code",
   "execution_count": 10,
   "metadata": {},
   "outputs": [],
   "source": [
    "def genratePassKey():\n",
    "    key = Fernet.generate_key()\n",
    "    print(key)\n",
    "    print(type(key))\n",
    "    abc = open(\"password.key\",'wb')\n",
    "    abc.write(key)\n",
    "    abc.close()\n",
    "          "
   ]
  },
  {
   "cell_type": "code",
   "execution_count": 11,
   "metadata": {},
   "outputs": [
    {
     "name": "stdout",
     "output_type": "stream",
     "text": [
      "b'qvZ-jt6d5mEktl1Lc3zISO7E7haZ1B5Z9f08n2jyr4k='\n",
      "<class 'bytes'>\n"
     ]
    }
   ],
   "source": [
    "genratePassKey()"
   ]
  },
  {
   "cell_type": "code",
   "execution_count": 33,
   "metadata": {},
   "outputs": [],
   "source": [
    "def getMyKey():\n",
    "    abc = open(\"password.key\",'rb')\n",
    "    return abc.read()"
   ]
  },
  {
   "cell_type": "code",
   "execution_count": 34,
   "metadata": {},
   "outputs": [
    {
     "data": {
      "text/plain": [
       "b'qvZ-jt6d5mEktl1Lc3zISO7E7haZ1B5Z9f08n2jyr4k='"
      ]
     },
     "execution_count": 34,
     "metadata": {},
     "output_type": "execute_result"
    }
   ],
   "source": [
    "getMyKey()"
   ]
  },
  {
   "cell_type": "code",
   "execution_count": 14,
   "metadata": {},
   "outputs": [],
   "source": [
    "def getContentFromUser():\n",
    "    return input(\"Enter the content you want to encrypt)\")"
   ]
  },
  {
   "cell_type": "code",
   "execution_count": 15,
   "metadata": {},
   "outputs": [
    {
     "name": "stdout",
     "output_type": "stream",
     "text": [
      "Enter the content you want to encrypt)Hey\n"
     ]
    },
    {
     "data": {
      "text/plain": [
       "'Hey'"
      ]
     },
     "execution_count": 15,
     "metadata": {},
     "output_type": "execute_result"
    }
   ],
   "source": [
    "getContentFromUser()\n"
   ]
  },
  {
   "cell_type": "code",
   "execution_count": 20,
   "metadata": {},
   "outputs": [],
   "source": [
    "def encryptMessage(msg_normal):\n",
    "    key = getMyKey()\n",
    "    k = Fernet(key)\n",
    "    encrypted_Message = k.encrypt(msg_normal)\n",
    "    return encrypted_Message"
   ]
  },
  {
   "cell_type": "code",
   "execution_count": 31,
   "metadata": {},
   "outputs": [
    {
     "data": {
      "text/plain": [
       "b'gAAAAABf14j7OJ3mIqK7xrCCa-7bgDuDCgQGXV6Ub_UEqryb8s9IMnTGlbgqv3Jw7Tyx-xNDRBiwzh5udNKZ-el6euFbljEXMg=='"
      ]
     },
     "execution_count": 31,
     "metadata": {},
     "output_type": "execute_result"
    }
   ],
   "source": [
    "encryptMessage(b\"Hey\")"
   ]
  },
  {
   "cell_type": "code",
   "execution_count": 24,
   "metadata": {},
   "outputs": [],
   "source": [
    "def decryptMessage(msg_secret):\n",
    "    key = getMyKey()\n",
    "    k = Fernet(key)\n",
    "    decrypted_Message = k.decrypt(msg_secret)\n",
    "    return decrypted_Message"
   ]
  },
  {
   "cell_type": "code",
   "execution_count": 32,
   "metadata": {},
   "outputs": [
    {
     "data": {
      "text/plain": [
       "b'Hey'"
      ]
     },
     "execution_count": 32,
     "metadata": {},
     "output_type": "execute_result"
    }
   ],
   "source": [
    "decryptMessage(b'gAAAAABf14j7OJ3mIqK7xrCCa-7bgDuDCgQGXV6Ub_UEqryb8s9IMnTGlbgqv3Jw7Tyx-xNDRBiwzh5udNKZ-el6euFbljEXMg==')"
   ]
  },
  {
   "cell_type": "code",
   "execution_count": null,
   "metadata": {},
   "outputs": [],
   "source": []
  }
 ],
 "metadata": {
  "kernelspec": {
   "display_name": "Python 3",
   "language": "python",
   "name": "python3"
  },
  "language_info": {
   "codemirror_mode": {
    "name": "ipython",
    "version": 3
   },
   "file_extension": ".py",
   "mimetype": "text/x-python",
   "name": "python",
   "nbconvert_exporter": "python",
   "pygments_lexer": "ipython3",
   "version": "3.8.5"
  }
 },
 "nbformat": 4,
 "nbformat_minor": 4
}
